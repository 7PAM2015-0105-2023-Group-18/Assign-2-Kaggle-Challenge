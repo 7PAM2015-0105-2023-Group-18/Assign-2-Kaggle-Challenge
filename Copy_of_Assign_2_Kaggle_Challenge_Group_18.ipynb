{
  "nbformat": 4,
  "nbformat_minor": 0,
  "metadata": {
    "colab": {
      "provenance": [],
      "include_colab_link": true
    },
    "kernelspec": {
      "name": "python3",
      "display_name": "Python 3"
    },
    "language_info": {
      "name": "python"
    }
  },
  "cells": [
    {
      "cell_type": "markdown",
      "metadata": {
        "id": "view-in-github",
        "colab_type": "text"
      },
      "source": [
        "<a href=\"https://colab.research.google.com/github/7PAM2015-0105-2023-Group-18/Assign-2-Kaggle-Challenge/blob/main/Copy_of_Assign_2_Kaggle_Challenge_Group_18.ipynb\" target=\"_parent\"><img src=\"https://colab.research.google.com/assets/colab-badge.svg\" alt=\"Open In Colab\"/></a>"
      ]
    },
    {
      "cell_type": "code",
      "execution_count": null,
      "metadata": {
        "id": "08uUI0My5haZ"
      },
      "outputs": [],
      "source": [
        "import pandas as pd\n",
        "import numpy as np\n",
        "import seaborn as sns\n",
        "import matplotlib.pyplot as plt"
      ]
    },
    {
      "cell_type": "code",
      "source": [
        "from google.colab import drive\n",
        "drive.mount('/content/drive')"
      ],
      "metadata": {
        "id": "Mrb2ct3DId3B"
      },
      "execution_count": null,
      "outputs": []
    },
    {
      "cell_type": "code",
      "source": [
        "train_df = pd.read_csv(\"/content/drive/MyDrive/kaggle challenge/train.csv\")\n",
        "test_df = pd.read_csv(\"/content/drive/MyDrive/kaggle challenge/test.csv\")\n",
        "train_df_copy = train_df.copy()\n",
        "print(train_df.head(5))"
      ],
      "metadata": {
        "id": "bZp3kjloNzML",
        "outputId": "8c39318a-c38d-4900-f702-ace929c07259",
        "colab": {
          "base_uri": "https://localhost:8080/"
        }
      },
      "execution_count": null,
      "outputs": [
        {
          "output_type": "stream",
          "name": "stdout",
          "text": [
            "  PassengerId HomePlanet CryoSleep  Cabin  Destination   Age    VIP  \\\n",
            "0     0001_01     Europa     False  B/0/P  TRAPPIST-1e  39.0  False   \n",
            "1     0002_01      Earth     False  F/0/S  TRAPPIST-1e  24.0  False   \n",
            "2     0003_01     Europa     False  A/0/S  TRAPPIST-1e  58.0   True   \n",
            "3     0003_02     Europa     False  A/0/S  TRAPPIST-1e  33.0  False   \n",
            "4     0004_01      Earth     False  F/1/S  TRAPPIST-1e  16.0  False   \n",
            "\n",
            "   RoomService  FoodCourt  ShoppingMall     Spa  VRDeck               Name  \\\n",
            "0          0.0        0.0           0.0     0.0     0.0    Maham Ofracculy   \n",
            "1        109.0        9.0          25.0   549.0    44.0       Juanna Vines   \n",
            "2         43.0     3576.0           0.0  6715.0    49.0      Altark Susent   \n",
            "3          0.0     1283.0         371.0  3329.0   193.0       Solam Susent   \n",
            "4        303.0       70.0         151.0   565.0     2.0  Willy Santantines   \n",
            "\n",
            "   Transported  \n",
            "0        False  \n",
            "1         True  \n",
            "2        False  \n",
            "3        False  \n",
            "4         True  \n"
          ]
        }
      ]
    },
    {
      "cell_type": "code",
      "source": [
        "print(f\"Column names: {list(train_df.columns)} \\n\")\n",
        "\n",
        "print(f\"train_ds shape: {train_df.shape} \\n\")\n",
        "\n",
        "print(f\"train_ds columns datatypes: {train_df.dtypes} \\n\")\n",
        "\n",
        "print(f\"missing values: {train_df.isnull().sum()} \\n\")"
      ],
      "metadata": {
        "id": "utgfs-KWPVQf",
        "outputId": "7b90bfd3-7eda-4123-c2c5-71fa4aa02693",
        "colab": {
          "base_uri": "https://localhost:8080/"
        }
      },
      "execution_count": null,
      "outputs": [
        {
          "output_type": "stream",
          "name": "stdout",
          "text": [
            "Column names: ['PassengerId', 'HomePlanet', 'CryoSleep', 'Cabin', 'Destination', 'Age', 'VIP', 'RoomService', 'FoodCourt', 'ShoppingMall', 'Spa', 'VRDeck', 'Name', 'Transported'] \n",
            "\n",
            "train_ds shape: (8693, 14) \n",
            "\n",
            "train_ds columns datatypes: PassengerId      object\n",
            "HomePlanet       object\n",
            "CryoSleep        object\n",
            "Cabin            object\n",
            "Destination      object\n",
            "Age             float64\n",
            "VIP              object\n",
            "RoomService     float64\n",
            "FoodCourt       float64\n",
            "ShoppingMall    float64\n",
            "Spa             float64\n",
            "VRDeck          float64\n",
            "Name             object\n",
            "Transported        bool\n",
            "dtype: object \n",
            "\n",
            "missing values: PassengerId       0\n",
            "HomePlanet      201\n",
            "CryoSleep       217\n",
            "Cabin           199\n",
            "Destination     182\n",
            "Age             179\n",
            "VIP             203\n",
            "RoomService     181\n",
            "FoodCourt       183\n",
            "ShoppingMall    208\n",
            "Spa             183\n",
            "VRDeck          188\n",
            "Name            200\n",
            "Transported       0\n",
            "dtype: int64 \n",
            "\n"
          ]
        }
      ]
    },
    {
      "cell_type": "code",
      "source": [
        "ax = sns.catplot(x = \"Transported\", data = train_df, kind = \"count\")\n",
        "ax.set_axis_labels(\"Transported\", \"Num Transported\")"
      ],
      "metadata": {
        "id": "CLkp1UWpPaqT",
        "outputId": "081603fb-6ebd-4268-9629-8f3db0813431",
        "colab": {
          "base_uri": "https://localhost:8080/",
          "height": 523
        }
      },
      "execution_count": null,
      "outputs": [
        {
          "output_type": "execute_result",
          "data": {
            "text/plain": [
              "<seaborn.axisgrid.FacetGrid at 0x780a13ef6b60>"
            ]
          },
          "metadata": {},
          "execution_count": 9
        },
        {
          "output_type": "display_data",
          "data": {
            "text/plain": [
              "<Figure size 511.111x500 with 1 Axes>"
            ],
            "image/png": "[encoded data removed]"
          },
          "metadata": {}
        }
      ]
    },
    {
      "cell_type": "code",
      "source": [
        "plt.figure(figsize = (14, 15))\n",
        "plt.subplot(221)\n",
        "train_df['HomePlanet'].value_counts(normalize = True).plot.bar(title = 'HomePlanet')\n",
        "plt.subplot(222)\n",
        "train_df['CryoSleep'].value_counts(normalize = True).plot.bar(title = 'CryoSleep')\n",
        "plt.subplot(223)\n",
        "train_df['Destination'].value_counts(normalize = True).plot.bar(title = 'Destination')\n",
        "plt.subplot(224)\n",
        "train_df['VIP'].value_counts(normalize = True).plot.bar(title = 'VIP')"
      ],
      "metadata": {
        "id": "6DUjsqD3PskI",
        "outputId": "e13c7e0a-4188-438f-c967-b908e5c517bb",
        "colab": {
          "base_uri": "https://localhost:8080/",
          "height": 1000
        }
      },
      "execution_count": null,
      "outputs": [
        {
          "output_type": "execute_result",
          "data": {
            "text/plain": [
              "<Axes: title={'center': 'VIP'}>"
            ]
          },
          "metadata": {},
          "execution_count": 10
        },
        {
          "output_type": "display_data",
          "data": {
            "text/plain": [
              "<Figure size 1400x1500 with 4 Axes>"
            ],
            "image/png": "[encoded data removed]"
          },
          "metadata": {}
        }
      ]
    },
    {
      "cell_type": "code",
      "source": [
        "train_df_copy[[\"CabinDeck\", \"CabinNo.\", \"CabinSide\"]] = train_df_copy[\"Cabin\"].str.split('/', expand = True)\n",
        "\n",
        "# Visualize cabin feature\n",
        "plt.figure()\n",
        "plt.subplot(221)\n",
        "train_df_copy['CabinDeck'].value_counts(normalize = True).plot.bar(title = 'CabinDeck')\n",
        "plt.subplot(222)\n",
        "train_df_copy['CabinSide'].value_counts(normalize = True).plot.bar(title = 'CabinSide')\n"
      ],
      "metadata": {
        "id": "waqA1Cj_P22a",
        "outputId": "4c01b3dd-88a3-482d-ee88-ea173c91909f",
        "colab": {
          "base_uri": "https://localhost:8080/",
          "height": 264
        }
      },
      "execution_count": null,
      "outputs": [
        {
          "output_type": "execute_result",
          "data": {
            "text/plain": [
              "<Axes: title={'center': 'CabinSide'}>"
            ]
          },
          "metadata": {},
          "execution_count": 11
        },
        {
          "output_type": "display_data",
          "data": {
            "text/plain": [
              "<Figure size 640x480 with 2 Axes>"
            ],
            "image/png": "[encoded data removed]"
          },
          "metadata": {}
        }
      ]
    },
    {
      "cell_type": "code",
      "source": [
        "# EDA: Pie chart:\n",
        "fig, ax = plt.subplots()\n",
        "cmap = plt.colormaps[\"tab20c\"]\n",
        "outer_colors = cmap([1,4])\n",
        "inner_colors = cmap([7,8,7,8])\n",
        "size = 0.45\n",
        "pctdist = 0.75\n",
        "\n",
        "# Counts of people with/without heart disease\n",
        "df_tot = train_df['Transported'].value_counts()\n",
        "\n",
        "# Outer pie chart (to show distribution of target variable)\n",
        "ax.pie(\n",
        "    np.array(df_tot),\n",
        "    autopct='%1.1f%%',\n",
        "    pctdistance = pctdist,\n",
        "    radius=1.0,\n",
        "    colors=outer_colors,\n",
        "    wedgeprops=dict(width=size, edgecolor='w'),\n",
        "    labels=['Not Transported','Transported']\n",
        ");\n",
        "\n",
        "# Counts of patients with heart disease, by sext\n",
        "df_trans = train_df.HomePlanet[train_df['Transported']==True].value_counts()\n",
        "\n",
        "# Counts of patients without heart disease, by sex\n",
        "df_ntrans = train_df.HomePlanet[train_df['Transported']==False].value_counts()\n",
        "\n",
        "# Concatenate arrays, for use in inner pie chart\n",
        "df_trans_by_HomePlanet = np.concatenate((np.array(df_trans),np.array(df_ntrans)))\n",
        "\n",
        "# Inner pie chart (to show sub-distribution of \"Sex\")\n",
        "ax.pie(\n",
        "    df_trans_by_HomePlanet,\n",
        "    autopct='%1.1f%%',\n",
        "    radius=1.0-size,\n",
        "    colors=inner_colors,\n",
        "    wedgeprops=dict(width=size, edgecolor='w'),\n",
        "    labels=['Earth','Europa','Mars', 'Earth', 'Europa', 'Mars']\n",
        ");\n"
      ],
      "metadata": {
        "id": "OPieSAhOMn6c"
      },
      "execution_count": null,
      "outputs": []
    },
    {
      "cell_type": "code",
      "source": [
        "# EDA: Pie chart:\n",
        "fig, ax = plt.subplots()\n",
        "cmap = plt.colormaps[\"tab20c\"]\n",
        "outer_colors = cmap([1,4])\n",
        "inner_colors = cmap([7,8,7,8])\n",
        "size = 0.45\n",
        "pctdist = 0.75\n",
        "\n",
        "# Counts of people with/without heart disease\n",
        "df_tot = train_df['Transported'].value_counts()\n",
        "\n",
        "# Outer pie chart (to show distribution of target variable)\n",
        "ax.pie(\n",
        "    np.array(df_tot),\n",
        "    autopct='%1.1f%%',\n",
        "    pctdistance = pctdist,\n",
        "    radius=1.0,\n",
        "    colors=outer_colors,\n",
        "    wedgeprops=dict(width=size, edgecolor='w'),\n",
        "    labels=['Not Transported','Transported']\n",
        ");\n",
        "\n",
        "# Counts of patients with heart disease, by sext\n",
        "df_trans = train_df.CryoSleep[train_df['Transported']==True].value_counts()\n",
        "\n",
        "# Counts of patients without heart disease, by sex\n",
        "df_ntrans = train_df.CryoSleep[train_df['Transported']==False].value_counts()\n",
        "\n",
        "# Concatenate arrays, for use in inner pie chart\n",
        "df_trans_by_CryoSleep = np.concatenate((np.array(df_trans),np.array(df_ntrans)))\n",
        "\n",
        "# Inner pie chart (to show sub-distribution of \"Sex\")\n",
        "ax.pie(\n",
        "    df_trans_by_CryoSleep,\n",
        "    autopct='%1.1f%%',\n",
        "    radius=1.0-size,\n",
        "    colors=inner_colors,\n",
        "    wedgeprops=dict(width=size, edgecolor='w'),\n",
        "    labels=['False','True','False', 'True']\n",
        ");\n"
      ],
      "metadata": {
        "id": "UBhmBzePO-zt"
      },
      "execution_count": null,
      "outputs": []
    },
    {
      "cell_type": "code",
      "source": [
        "# EDA: Pie chart:\n",
        "fig, ax = plt.subplots()\n",
        "cmap = plt.colormaps[\"tab20c\"]\n",
        "outer_colors = cmap([1,4])\n",
        "inner_colors = cmap([7,8,7,8])\n",
        "size = 0.45\n",
        "pctdist = 0.75\n",
        "\n",
        "# Counts of people with/without heart disease\n",
        "df_tot = train_df['Transported'].value_counts()\n",
        "\n",
        "# Outer pie chart (to show distribution of target variable)\n",
        "ax.pie(\n",
        "    np.array(df_tot),\n",
        "    autopct='%1.1f%%',\n",
        "    pctdistance = pctdist,\n",
        "    radius=1.0,\n",
        "    colors=outer_colors,\n",
        "    wedgeprops=dict(width=size, edgecolor='w'),\n",
        "    labels=['Not Transported','Transported']\n",
        ");\n",
        "\n",
        "# Counts of patients with heart disease, by sext\n",
        "df_trans = train_df.Destination[train_df['Transported']==True].value_counts()\n",
        "\n",
        "# Counts of patients without heart disease, by sex\n",
        "df_ntrans = train_df.Destination[train_df['Transported']==False].value_counts()\n",
        "\n",
        "# Concatenate arrays, for use in inner pie chart\n",
        "df_trans_by_dest = np.concatenate((np.array(df_trans),np.array(df_ntrans)))\n",
        "\n",
        "# Inner pie chart (to show sub-distribution of \"Sex\")\n",
        "ax.pie(\n",
        "    df_trans_by_dest,\n",
        "    autopct='%1.1f%%',\n",
        "    radius=1.0-size,\n",
        "    colors=inner_colors,\n",
        "    wedgeprops=dict(width=size, edgecolor='w'),\n",
        "    labels=['55 Cancri e','PSO J318.5-22','TRAPPIST-1e', '55 Cancri e', 'PSO J318.5-22', 'TRAPPIST-1e']\n",
        ");\n"
      ],
      "metadata": {
        "id": "oaVAW94aPE2o"
      },
      "execution_count": null,
      "outputs": []
    },
    {
      "cell_type": "code",
      "source": [
        "# EDA: Pie chart:\n",
        "fig, ax = plt.subplots()\n",
        "cmap = plt.colormaps[\"tab20c\"]\n",
        "outer_colors = cmap([1,4])\n",
        "inner_colors = cmap([7,8,7,8])\n",
        "size = 0.45\n",
        "pctdist = 0.75\n",
        "\n",
        "# Counts of people with/without heart disease\n",
        "df_tot = train_df['Transported'].value_counts()\n",
        "\n",
        "# Outer pie chart (to show distribution of target variable)\n",
        "ax.pie(\n",
        "    np.array(df_tot),\n",
        "    autopct='%1.1f%%',\n",
        "    pctdistance = pctdist,\n",
        "    radius=1.0,\n",
        "    colors=outer_colors,\n",
        "    wedgeprops=dict(width=size, edgecolor='w'),\n",
        "    labels=['Not Transported','Transported']\n",
        ");\n",
        "\n",
        "# Counts of patients with heart disease, by sext\n",
        "df_trans = train_df.VIP[train_df['Transported']==True].value_counts()\n",
        "\n",
        "# Counts of patients without heart disease, by sex\n",
        "df_ntrans = train_df.VIP[train_df['Transported']==False].value_counts()\n",
        "\n",
        "# Concatenate arrays, for use in inner pie chart\n",
        "df_trans_by_VIP = np.concatenate((np.array(df_trans),np.array(df_ntrans)))\n",
        "\n",
        "# Inner pie chart (to show sub-distribution of \"Sex\")\n",
        "ax.pie(\n",
        "    df_trans_by_VIP,\n",
        "    autopct='%1.1f%%',\n",
        "    radius=1.0-size,\n",
        "    colors=inner_colors,\n",
        "    wedgeprops=dict(width=size, edgecolor='w'),\n",
        "    labels=['False','True','False', 'True']\n",
        ");\n"
      ],
      "metadata": {
        "id": "l8D3gxLrPdgd"
      },
      "execution_count": null,
      "outputs": []
    },
    {
      "cell_type": "code",
      "source": [
        "# EDA: Pie chart:\n",
        "fig, ax = plt.subplots()\n",
        "cmap = plt.colormaps[\"tab20c\"]\n",
        "outer_colors = cmap([1,4])\n",
        "inner_colors = cmap([7,8,7,8])\n",
        "size = 0.45\n",
        "pctdist = 0.75\n",
        "\n",
        "# Counts of people with/without heart disease\n",
        "df_tot = train_df['Transported'].value_counts()\n",
        "\n",
        "# Outer pie chart (to show distribution of target variable)\n",
        "ax.pie(\n",
        "    np.array(df_tot),\n",
        "    autopct='%1.1f%%',\n",
        "    pctdistance = pctdist,\n",
        "    radius=1.0,\n",
        "    colors=outer_colors,\n",
        "    wedgeprops=dict(width=size, edgecolor='w'),\n",
        "    labels=['Not Transported','Transported']\n",
        ");\n",
        "\n",
        "# Counts of patients with heart disease, by sext\n",
        "df_trans = train_df_copy.CabinDeck[train_df['Transported']==True].value_counts()\n",
        "\n",
        "# Counts of patients without heart disease, by sex\n",
        "df_ntrans = train_df_copy.CabinDeck[train_df['Transported']==False].value_counts()\n",
        "\n",
        "# Concatenate arrays, for use in inner pie chart\n",
        "df_trans_by_CabinDeck = np.concatenate((np.array(df_trans),np.array(df_ntrans)))\n",
        "\n",
        "# Inner pie chart (to show sub-distribution of \"Sex\")\n",
        "ax.pie(\n",
        "    df_trans_by_CabinDeck,\n",
        "    autopct='%1.1f%%',\n",
        "    radius=1.0-size,\n",
        "    colors=inner_colors,\n",
        "    wedgeprops=dict(width=size, edgecolor='w'),\n",
        "    labels=['B','C','G','A','F','D','E','T','B','C','G','A','F','D','E','T'],\n",
        "    textprops = {'fontsize':6}\n",
        ");\n",
        "\n"
      ],
      "metadata": {
        "id": "qEvuMmw8PubD"
      },
      "execution_count": null,
      "outputs": []
    },
    {
      "cell_type": "code",
      "source": [
        "plt.figure()\n",
        "sns.set_theme(style = 'whitegrid')\n",
        "sns.set(font_scale=1.5)\n",
        "tmp = sns.violinplot(data = train_df, x = 'Transported', y = 'Age')\n",
        "sns.despine(left = True)\n",
        "plt.show()\n",
        "\n",
        "sns.set_theme(style = 'whitegrid')\n",
        "sns.set(font_scale=1.5)\n",
        "tmp = sns.violinplot(data = train_df, x = 'Transported', y = 'RoomService')\n",
        "sns.despine(left = True)\n",
        "plt.show()\n",
        "\n",
        "sns.set_theme(style = 'whitegrid')\n",
        "sns.set(font_scale=1.5)\n",
        "tmp = sns.violinplot(data = train_df, x = 'Transported', y = 'FoodCourt')\n",
        "sns.despine(left = True)\n",
        "plt.show()\n",
        "\n",
        "sns.set_theme(style = 'whitegrid')\n",
        "sns.set(font_scale=1.5)\n",
        "tmp = sns.violinplot(data = train_df, x = 'Transported', y = 'ShoppingMall')\n",
        "sns.despine(left = True)\n",
        "plt.show()\n",
        "\n",
        "sns.set_theme(style = 'whitegrid')\n",
        "sns.set(font_scale=1.5)\n",
        "tmp = sns.violinplot(data = train_df, x = 'Transported', y = 'Spa')\n",
        "sns.despine(left = True)\n",
        "plt.show()\n",
        "\n",
        "sns.set_theme(style = 'whitegrid')\n",
        "sns.set(font_scale=1.5)\n",
        "tmp = sns.violinplot(data = train_df, x = 'Transported', y = 'VRDeck')\n",
        "sns.despine(left = True)\n",
        "\n",
        "plt.show()"
      ],
      "metadata": {
        "id": "escocr1wP49q"
      },
      "execution_count": null,
      "outputs": []
    },
    {
      "cell_type": "code",
      "source": [
        "plt.figure(1)\n",
        "plt.subplot(331)\n",
        "sns.distplot(train_df['Age']);\n",
        "plt.subplot(332)\n",
        "sns.distplot(train_df['RoomService']);\n",
        "plt.subplot(333)\n",
        "sns.distplot(train_df['FoodCourt']);\n",
        "plt.subplot(334)\n",
        "sns.distplot(train_df['ShoppingMall']);\n",
        "plt.subplot(335)\n",
        "sns.distplot(train_df['Spa']);\n",
        "plt.subplot(336)\n",
        "sns.distplot(train_df['VRDeck']);\n",
        "plt.subplots_adjust(left=0.1, right=0.9, bottom=0.1, top=0.9, wspace=0.5, hspace=0.5)\n",
        "plt.show()"
      ],
      "metadata": {
        "id": "2DtjTdyzQG-Y",
        "outputId": "89a6b222-de12-4ba9-d0f4-a4f038144217",
        "colab": {
          "base_uri": "https://localhost:8080/",
          "height": 219
        }
      },
      "execution_count": null,
      "outputs": [
        {
          "output_type": "error",
          "ename": "NameError",
          "evalue": "name 'plt' is not defined",
          "traceback": [
            "\u001b[0;31m---------------------------------------------------------------------------\u001b[0m",
            "\u001b[0;31mNameError\u001b[0m                                 Traceback (most recent call last)",
            "\u001b[0;32m<ipython-input-2-14a5068a7748>\u001b[0m in \u001b[0;36m<cell line: 1>\u001b[0;34m()\u001b[0m\n\u001b[0;32m----> 1\u001b[0;31m \u001b[0mplt\u001b[0m\u001b[0;34m.\u001b[0m\u001b[0mfigure\u001b[0m\u001b[0;34m(\u001b[0m\u001b[0;36m1\u001b[0m\u001b[0;34m)\u001b[0m\u001b[0;34m\u001b[0m\u001b[0;34m\u001b[0m\u001b[0m\n\u001b[0m\u001b[1;32m      2\u001b[0m \u001b[0mplt\u001b[0m\u001b[0;34m.\u001b[0m\u001b[0msubplot\u001b[0m\u001b[0;34m(\u001b[0m\u001b[0;36m331\u001b[0m\u001b[0;34m)\u001b[0m\u001b[0;34m\u001b[0m\u001b[0;34m\u001b[0m\u001b[0m\n\u001b[1;32m      3\u001b[0m \u001b[0msns\u001b[0m\u001b[0;34m.\u001b[0m\u001b[0mdistplot\u001b[0m\u001b[0;34m(\u001b[0m\u001b[0mtrain_df\u001b[0m\u001b[0;34m[\u001b[0m\u001b[0;34m'Age'\u001b[0m\u001b[0;34m]\u001b[0m\u001b[0;34m)\u001b[0m\u001b[0;34m;\u001b[0m\u001b[0;34m\u001b[0m\u001b[0;34m\u001b[0m\u001b[0m\n\u001b[1;32m      4\u001b[0m \u001b[0mplt\u001b[0m\u001b[0;34m.\u001b[0m\u001b[0msubplot\u001b[0m\u001b[0;34m(\u001b[0m\u001b[0;36m332\u001b[0m\u001b[0;34m)\u001b[0m\u001b[0;34m\u001b[0m\u001b[0;34m\u001b[0m\u001b[0m\n\u001b[1;32m      5\u001b[0m \u001b[0msns\u001b[0m\u001b[0;34m.\u001b[0m\u001b[0mdistplot\u001b[0m\u001b[0;34m(\u001b[0m\u001b[0mtrain_df\u001b[0m\u001b[0;34m[\u001b[0m\u001b[0;34m'RoomService'\u001b[0m\u001b[0;34m]\u001b[0m\u001b[0;34m)\u001b[0m\u001b[0;34m;\u001b[0m\u001b[0;34m\u001b[0m\u001b[0;34m\u001b[0m\u001b[0m\n",
            "\u001b[0;31mNameError\u001b[0m: name 'plt' is not defined"
          ]
        }
      ]
    },
    {
      "cell_type": "code",
      "source": [
        "train_copy_2 = train_df_copy.copy()\n",
        "train_copy_2 = train_copy_2.drop(['CabinDeck', 'CabinSide', 'CabinNo.'], axis = 1)\n"
      ],
      "metadata": {
        "id": "lIVNwZt1nUaf",
        "outputId": "bdb140ad-f5ff-438e-af58-110faa69a64f",
        "colab": {
          "base_uri": "https://localhost:8080/",
          "height": 158
        }
      },
      "execution_count": null,
      "outputs": [
        {
          "output_type": "error",
          "ename": "NameError",
          "evalue": "name 'train_df_copy' is not defined",
          "traceback": [
            "\u001b[0;31m---------------------------------------------------------------------------\u001b[0m",
            "\u001b[0;31mNameError\u001b[0m                                 Traceback (most recent call last)",
            "\u001b[0;32m<ipython-input-4-7cdb01a8286b>\u001b[0m in \u001b[0;36m<cell line: 1>\u001b[0;34m()\u001b[0m\n\u001b[0;32m----> 1\u001b[0;31m \u001b[0mtrain_copy_2\u001b[0m \u001b[0;34m=\u001b[0m \u001b[0mtrain_df_copy\u001b[0m\u001b[0;34m.\u001b[0m\u001b[0mcopy\u001b[0m\u001b[0;34m(\u001b[0m\u001b[0;34m)\u001b[0m\u001b[0;34m\u001b[0m\u001b[0;34m\u001b[0m\u001b[0m\n\u001b[0m\u001b[1;32m      2\u001b[0m \u001b[0mtrain_copy_2\u001b[0m \u001b[0;34m=\u001b[0m \u001b[0mtrain_copy_2\u001b[0m\u001b[0;34m.\u001b[0m\u001b[0mdrop\u001b[0m\u001b[0;34m(\u001b[0m\u001b[0;34m[\u001b[0m\u001b[0;34m'CabinDeck'\u001b[0m\u001b[0;34m,\u001b[0m \u001b[0;34m'CabinSide'\u001b[0m\u001b[0;34m,\u001b[0m \u001b[0;34m'CabinNo.'\u001b[0m\u001b[0;34m]\u001b[0m\u001b[0;34m,\u001b[0m \u001b[0maxis\u001b[0m \u001b[0;34m=\u001b[0m \u001b[0;36m1\u001b[0m\u001b[0;34m)\u001b[0m\u001b[0;34m\u001b[0m\u001b[0;34m\u001b[0m\u001b[0m\n",
            "\u001b[0;31mNameError\u001b[0m: name 'train_df_copy' is not defined"
          ]
        }
      ]
    },
    {
      "cell_type": "code",
      "source": [
        "train_data_1 = train_copy_2.drop(['Transported'], axis = 1)\n"
      ],
      "metadata": {
        "id": "M0MgaMzNnwHy"
      },
      "execution_count": null,
      "outputs": []
    },
    {
      "cell_type": "code",
      "source": [
        "data = pd.concat([train_data_1, test_df], axis=0).reset_index(drop= True)\n"
      ],
      "metadata": {
        "id": "vB9e6FhxnySj",
        "outputId": "78fc8d48-e3ff-4c4f-daf2-3cab56fde8ec",
        "colab": {
          "base_uri": "https://localhost:8080/",
          "height": 141
        }
      },
      "execution_count": null,
      "outputs": [
        {
          "output_type": "error",
          "ename": "NameError",
          "evalue": "name 'pd' is not defined",
          "traceback": [
            "\u001b[0;31m---------------------------------------------------------------------------\u001b[0m",
            "\u001b[0;31mNameError\u001b[0m                                 Traceback (most recent call last)",
            "\u001b[0;32m<ipython-input-5-d84441a9a0cf>\u001b[0m in \u001b[0;36m<cell line: 1>\u001b[0;34m()\u001b[0m\n\u001b[0;32m----> 1\u001b[0;31m \u001b[0mdata\u001b[0m \u001b[0;34m=\u001b[0m \u001b[0mpd\u001b[0m\u001b[0;34m.\u001b[0m\u001b[0mconcat\u001b[0m\u001b[0;34m(\u001b[0m\u001b[0;34m[\u001b[0m\u001b[0mtrain_data_1\u001b[0m\u001b[0;34m,\u001b[0m \u001b[0mtest_df\u001b[0m\u001b[0;34m]\u001b[0m\u001b[0;34m,\u001b[0m \u001b[0maxis\u001b[0m\u001b[0;34m=\u001b[0m\u001b[0;36m0\u001b[0m\u001b[0;34m)\u001b[0m\u001b[0;34m.\u001b[0m\u001b[0mreset_index\u001b[0m\u001b[0;34m(\u001b[0m\u001b[0mdrop\u001b[0m\u001b[0;34m=\u001b[0m \u001b[0;32mTrue\u001b[0m\u001b[0;34m)\u001b[0m\u001b[0;34m\u001b[0m\u001b[0;34m\u001b[0m\u001b[0m\n\u001b[0m",
            "\u001b[0;31mNameError\u001b[0m: name 'pd' is not defined"
          ]
        }
      ]
    },
    {
      "cell_type": "code",
      "source": [
        "def clipping_quantile(dataframe, quantile_values = None, quantile = 0.99):\n",
        "  df = dataframe.copy()\n",
        "    if quantile_values is None:\n",
        "        quantile_values = df[[\"RoomService\", \"FoodCourt\", \"ShoppingMall\", \"Spa\", \"VRDeck\"]].quantile(quantile)\n",
        "    for num_column in [\"RoomService\", \"FoodCourt\", \"ShoppingMall\", \"Spa\", \"VRDeck\"]:\n",
        "        num_values = df[num_column].values\n",
        "        threshold = quantile_values[num_column]\n",
        "        num_values = np.where(num_values > threshold, threshold, num_values)\n",
        "        df[num_column] = num_values\n",
        "    return df\n",
        "\n",
        "data = clipping_quantile(data, None, 0.99)\n",
        "print(data.head(3))\n"
      ],
      "metadata": {
        "id": "HiI-PY50n2ZC",
        "outputId": "e1083dbf-01be-4487-ea57-e213b488843d",
        "colab": {
          "base_uri": "https://localhost:8080/",
          "height": 106
        }
      },
      "execution_count": null,
      "outputs": [
        {
          "output_type": "error",
          "ename": "SyntaxError",
          "evalue": "incomplete input (<ipython-input-6-1cb772b24879>, line 1)",
          "traceback": [
            "\u001b[0;36m  File \u001b[0;32m\"<ipython-input-6-1cb772b24879>\"\u001b[0;36m, line \u001b[0;32m1\u001b[0m\n\u001b[0;31m    def clipping_quantile(dataframe, quantile_values = None, quantile = 0.99):\u001b[0m\n\u001b[0m                                                                              ^\u001b[0m\n\u001b[0;31mSyntaxError\u001b[0m\u001b[0;31m:\u001b[0m incomplete input\n"
          ]
        }
      ]
    },
    {
      "cell_type": "code",
      "source": [
        "print(f\"Column names: {list(data.columns)} \\n\")\n",
        "\n",
        "print(f\"data shape: {data.shape} \\n\")\n",
        "\n",
        "print(f\"data columns datatypes: {data.dtypes} \\n\")\n",
        "\n",
        "print(f\"missing values: {data.isnull().sum()} \\n\")\n",
        "\n",
        "#Filling Numerical NANs\n",
        "def fill_missing_values_numerical(column_names):\n",
        "    for column in column_names:\n",
        "        data[column].fillna(data[column].mean(), inplace=True)\n",
        "\n",
        "\n",
        "columns_to_fill = ['Age', 'RoomService', 'FoodCourt', 'ShoppingMall', 'Spa', 'VRDeck' ]  # Add other column names here\n",
        "fill_missing_values_numerical(columns_to_fill)\n",
        "\n",
        "#Filling Categorical NANs\n",
        "def fill_missing_values_categorical(column_names):\n",
        "    for column in column_names:\n",
        "        data[column].fillna(data[column].mode()[0], inplace=True)\n",
        "\n",
        "columns_to_fill = ['HomePlanet', 'CryoSleep', 'Cabin', 'Destination', 'VIP']  # Add other column names here\n",
        "fill_missing_values_categorical(columns_to_fill)\n",
        "\n",
        "print(f\"missing values: {data.isnull().sum()} \\n\")\n",
        "\n",
        "def extract_features(df):\n",
        "    # Create CabinDeck feature\n",
        "    df[\"CabinDeck\"] = df[\"Cabin\"].str.split('/', expand = True)[0]\n",
        "    # Create DeckPosition feature\n",
        "    df[\"DeckPosition\"] = df[\"CabinDeck\"].apply(lambda deck: \"Lower\" if deck in ('A', 'B', 'C', 'D') else \"Higher\" )\n",
        "    # Create CabinSide feature\n",
        "    df[\"CabinSide\"] = df[\"Cabin\"].str.split('/', expand = True)[2]\n",
        "\n",
        "    # Create Regular feature\n",
        "    df[\"Regular\"] = df[\"FoodCourt\"] + df[\"ShoppingMall\"]\n",
        "    # Create Luxury feature\n",
        "    df[\"Luxury\"] = df[\"RoomService\"] + df[\"Spa\"] + df[\"VRDeck\"]\n",
        "    # Create TotalSpendings feature\n",
        "    df[\"TotalSpendings\"] = df[\"RoomService\"] + df[\"FoodCourt\"] + df[\"ShoppingMall\"] + df[\"Spa\"] + df[\"VRDeck\"]\n",
        "\n",
        "    Wealthiest_Deck = df.groupby('CabinDeck').aggregate({'TotalSpendings': 'sum', 'PassengerId': 'size'}).reset_index()\n",
        "    # Create DeckAverageSpent feature\n",
        "    Wealthiest_Deck['DeckAverageSpent'] = Wealthiest_Deck['TotalSpendings'] / Wealthiest_Deck['PassengerId']\n",
        "\n",
        "    df = df.merge(Wealthiest_Deck[[\"CabinDeck\", \"DeckAverageSpent\"]], how = 'left', on = ['CabinDeck'])\n",
        "\n",
        "    return df\n",
        "\n",
        "data_copy = data.copy()\n",
        "data_model = extract_features(data_copy)\n",
        "print(data_model.head(3))"
      ],
      "metadata": {
        "id": "zlmOI3_kn6AH",
        "outputId": "2a64e9c4-4a8f-4c87-fa4e-8a494733ff53",
        "colab": {
          "base_uri": "https://localhost:8080/",
          "height": 106
        }
      },
      "execution_count": null,
      "outputs": [
        {
          "output_type": "error",
          "ename": "IndentationError",
          "evalue": "unexpected indent (<ipython-input-7-87803f85d0da>, line 2)",
          "traceback": [
            "\u001b[0;36m  File \u001b[0;32m\"<ipython-input-7-87803f85d0da>\"\u001b[0;36m, line \u001b[0;32m2\u001b[0m\n\u001b[0;31m    if quantile_values is None:\u001b[0m\n\u001b[0m    ^\u001b[0m\n\u001b[0;31mIndentationError\u001b[0m\u001b[0;31m:\u001b[0m unexpected indent\n"
          ]
        }
      ]
    },
    {
      "cell_type": "code",
      "source": [
        "irrelevant_columns = [\"Cabin\",\"Name\"]\n",
        "data_model = data_model.drop(irrelevant_columns, axis = 1)\n",
        "print(f\"data columns datatypes: {data_model.dtypes} \\n\")"
      ],
      "metadata": {
        "id": "sDRgBw0lEwIZ"
      },
      "execution_count": null,
      "outputs": []
    },
    {
      "cell_type": "code",
      "source": [
        " Categorical One-Hot Encoding\n",
        "data_model = pd.get_dummies(data_model, columns = ['HomePlanet', 'CryoSleep', 'Destination', 'VIP', 'CabinSide'])\n",
        "\n",
        "#Ordinal Encoding\n",
        "for col in ['CabinDeck', 'DeckPosition']:\n",
        "    data_model[col], _ = data_model[col].factorize()"
      ],
      "metadata": {
        "id": "3xWzthqkFHg1"
      },
      "execution_count": null,
      "outputs": []
    },
    {
      "cell_type": "code",
      "source": [
        "train_data_model = data_model.loc[:train_df.index.max(),  :].copy()\n",
        "test_data_model = data_model.loc[train_df.index.max() + 1:, :].reset_index(drop = True).copy()\n",
        "\n",
        "print(f'train_data_model shape: {train_data_model.shape}\\n')\n",
        "print(f'test_data_model shape: {test_data_model.shape}\\n')\n",
        "train_data model shape\n",
        "test_data_model shape:(4277,25)"
      ],
      "metadata": {
        "id": "92Of2OyUGTf_"
      },
      "execution_count": null,
      "outputs": []
    },
    {
      "cell_type": "code",
      "source": [
        "x = train_data_model.copy()\n",
        "target = train_df['Transported']\n",
        "# save target variable in in y\n",
        "y = target.astype(int)\n",
        "print(x.columns)"
      ],
      "metadata": {
        "id": "_-XCsls4GarW"
      },
      "execution_count": null,
      "outputs": []
    },
    {
      "cell_type": "code",
      "source": [
        "Index(['PassengerId', 'Age', 'RoomService', 'FoodCourt', 'ShoppingMall', 'Spa',\n",
        "       'VRDeck', 'DeckPosition', 'Regular', 'Luxury', 'TotalSpendings',\n",
        "       'DeckAverageSpent', 'HomePlanet_Earth', 'HomePlanet_Europa',\n",
        "       'HomePlanet_Mars', 'CryoSleep_False', 'CryoSleep_True',\n",
        "       'Destination_55 Cancri e', 'Destination_TRAPPIST-1e', 'VIP_True',\n",
        "       'CabinSide_P', 'CabinSide_S'],\n",
        "      dtype='object')"
      ],
      "metadata": {
        "id": "Jir1muRgGwbu"
      },
      "execution_count": null,
      "outputs": []
    },
    {
      "cell_type": "code",
      "source": [
        "from sklearn.ensemble import RandomForestClassifier\n",
        "\n",
        "x = x[chi_feature]\n",
        "\n",
        "# baseline model\n",
        "baseline_model = RandomForestClassifier(random_state = 1)\n",
        "baseline_model.fit(x, y)"
      ],
      "metadata": {
        "id": "PqftefUHHfBW"
      },
      "execution_count": null,
      "outputs": []
    },
    {
      "cell_type": "code",
      "source": [
        "\n",
        "RandomForestClassifier\n",
        "RandomForestClassifier(random_state=1)"
      ],
      "metadata": {
        "id": "7EhpAsMOIcVZ"
      },
      "execution_count": null,
      "outputs": []
    },
    {
      "cell_type": "code",
      "source": [
        "from sklearn.model_selection import cross_val_score\n",
        "\n",
        "# store accuracy of baseline model prediction in results\n",
        "result = cross_val_score(baseline_model, x, y, cv = 20, scoring = \"accuracy\")\n",
        "\n",
        "# print mean and standard deviation of baseline model\n",
        "print(np.mean(result))\n",
        "print(np.std(result))"
      ],
      "metadata": {
        "id": "RlygXGUkIjh0"
      },
      "execution_count": null,
      "outputs": []
    },
    {
      "cell_type": "code",
      "source": [],
      "metadata": {
        "id": "VOSNNu5UIzZX"
      },
      "execution_count": null,
      "outputs": []
    },
    {
      "cell_type": "markdown",
      "source": [
        "# Model Evaluation and Improvement"
      ],
      "metadata": {
        "id": "7VqHCHmhnv6l"
      }
    },
    {
      "cell_type": "code",
      "source": [],
      "metadata": {
        "id": "DXTYxcB9Et1h"
      },
      "execution_count": null,
      "outputs": []
    },
    {
      "cell_type": "code",
      "source": [],
      "metadata": {
        "id": "hzgi3K8ZLUW0"
      },
      "execution_count": null,
      "outputs": []
    },
    {
      "cell_type": "code",
      "source": [
        "from sklearn.model_selection import cross_val_score\n",
        "\n",
        "# finding accuracy of baseline model prediction\n",
        "result = cross_val_score(baseline_model, x, y, cv = 20, scoring = \"accuracy\")\n",
        "\n",
        "# print mean accuracy of of baseline model\n",
        "print(np.mean(result))"
      ],
      "metadata": {
        "id": "OU5pjLUombjF"
      },
      "execution_count": null,
      "outputs": []
    },
    {
      "cell_type": "code",
      "source": [
        "from sklearn.model_selection import GridSearchCV\n",
        "\n",
        "# provide range for max_depth from 1 to 20 with an interval of 2\n",
        "# provide range for n_estimators from 1 to 200 with an interval of 20\n",
        "paramgrid = {'max_depth': list(range(1, 20, 2)),\n",
        "             'n_estimators': list(range(1, 200, 20))}\n",
        "grid_search = GridSearchCV(RandomForestClassifier(random_state = 1), paramgrid)\n",
        "\n",
        "# fit the grid search model\n",
        "grid_search.fit(x, y)\n",
        "\n",
        "# Estimating the optimized value\n",
        "grid_search.best_estimator_"
      ],
      "metadata": {
        "id": "VbGfxebLmrJx",
        "outputId": "71b15c30-dc33-4567-b2f7-f3be04d31e3f",
        "colab": {
          "base_uri": "https://localhost:8080/",
          "height": 219
        }
      },
      "execution_count": null,
      "outputs": [
        {
          "output_type": "error",
          "ename": "NameError",
          "evalue": "name 'RandomForestClassifier' is not defined",
          "traceback": [
            "\u001b[0;31m---------------------------------------------------------------------------\u001b[0m",
            "\u001b[0;31mNameError\u001b[0m                                 Traceback (most recent call last)",
            "\u001b[0;32m<ipython-input-1-e94cb2e904c4>\u001b[0m in \u001b[0;36m<cell line: 7>\u001b[0;34m()\u001b[0m\n\u001b[1;32m      5\u001b[0m paramgrid = {'max_depth': list(range(1, 20, 2)),\n\u001b[1;32m      6\u001b[0m              'n_estimators': list(range(1, 200, 20))}\n\u001b[0;32m----> 7\u001b[0;31m \u001b[0mgrid_search\u001b[0m \u001b[0;34m=\u001b[0m \u001b[0mGridSearchCV\u001b[0m\u001b[0;34m(\u001b[0m\u001b[0mRandomForestClassifier\u001b[0m\u001b[0;34m(\u001b[0m\u001b[0mrandom_state\u001b[0m \u001b[0;34m=\u001b[0m \u001b[0;36m1\u001b[0m\u001b[0;34m)\u001b[0m\u001b[0;34m,\u001b[0m \u001b[0mparamgrid\u001b[0m\u001b[0;34m)\u001b[0m\u001b[0;34m\u001b[0m\u001b[0;34m\u001b[0m\u001b[0m\n\u001b[0m\u001b[1;32m      8\u001b[0m \u001b[0;34m\u001b[0m\u001b[0m\n\u001b[1;32m      9\u001b[0m \u001b[0;31m# fit the grid search model\u001b[0m\u001b[0;34m\u001b[0m\u001b[0;34m\u001b[0m\u001b[0m\n",
            "\u001b[0;31mNameError\u001b[0m: name 'RandomForestClassifier' is not defined"
          ]
        }
      ]
    },
    {
      "cell_type": "code",
      "source": [
        "# build final model with these optimized values\n",
        "model_final = RandomForestClassifier(max_depth=5, n_estimators=161, random_state=1)\n",
        "\n",
        "# fit model on X and y\n",
        "model_final.fit(x, y)"
      ],
      "metadata": {
        "id": "aaE93ZAVnLXm"
      },
      "execution_count": null,
      "outputs": []
    },
    {
      "cell_type": "code",
      "source": [
        "#Finding accuracy after adjusting hyperparameters\n",
        "result1 = cross_val_score(model_final, x, y, cv = 20, scoring = \"accuracy\")\n",
        "\n",
        "#Finding mean accuracy of the final model\n",
        "print(np.mean(result1))"
      ],
      "metadata": {
        "id": "UJIETPh6m0_f"
      },
      "execution_count": null,
      "outputs": []
    },
    {
      "cell_type": "code",
      "source": [
        "prediction = model_final.predict(test_data_model[chi_feature])"
      ],
      "metadata": {
        "id": "8hoBTmgSnOg4"
      },
      "execution_count": null,
      "outputs": []
    },
    {
      "cell_type": "code",
      "source": [
        "# store predictions in a dataframe\n",
        "pred_dict = {\"PassengerId\" : test_df[\"PassengerId\"], \"Transported\": prediction}\n",
        "pred_df = pd.DataFrame(pred_dict)\n",
        "\n",
        "# replacing 0 with False and 1 with True\n",
        "pred_df[\"Transported\"] = pred_df[\"Transported\"].map({1 : True, 0: False})\n",
        "print(pred_df.head(5))"
      ],
      "metadata": {
        "id": "A_tIyKpqnVw6"
      },
      "execution_count": null,
      "outputs": []
    },
    {
      "cell_type": "markdown",
      "source": [
        "# Explainable AI"
      ],
      "metadata": {
        "id": "L7p5YUvyn6WA"
      }
    },
    {
      "cell_type": "code",
      "source": [
        "!pip install eli5\n",
        "import eli5"
      ],
      "metadata": {
        "id": "IIOvf9gTnZyw"
      },
      "execution_count": null,
      "outputs": []
    },
    {
      "cell_type": "code",
      "source": [
        "from eli5.sklearn import PermutationImportance\n",
        "\n",
        "#Permutation Importance for xai\n",
        "perm = PermutationImportance(model_final).fit(x,y)\n",
        "eli5.show_weights(perm, feature_names = list(x.columns))"
      ],
      "metadata": {
        "id": "MwXLSq4Ind7k"
      },
      "execution_count": null,
      "outputs": []
    }
  ]
}